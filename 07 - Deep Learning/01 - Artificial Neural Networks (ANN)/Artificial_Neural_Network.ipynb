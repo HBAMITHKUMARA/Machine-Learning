{
 "cells": [
  {
   "cell_type": "markdown",
   "metadata": {},
   "source": [
    "# Artificial Neural Network"
   ]
  },
  {
   "cell_type": "markdown",
   "metadata": {},
   "source": [
    "### Part 1 - Data Preprocessing"
   ]
  },
  {
   "cell_type": "code",
   "execution_count": 1,
   "metadata": {
    "collapsed": true
   },
   "outputs": [],
   "source": [
    "# Importing the libraries\n",
    "import numpy as np\n",
    "import matplotlib.pyplot as plt\n",
    "import pandas as pd"
   ]
  },
  {
   "cell_type": "code",
   "execution_count": 2,
   "metadata": {
    "collapsed": true
   },
   "outputs": [],
   "source": [
    "# Importing the dataset\n",
    "dataset = pd.read_csv('Churn_Modelling.csv')\n",
    "X = dataset.iloc[:, 3:13].values\n",
    "y = dataset.iloc[:, 13].values"
   ]
  },
  {
   "cell_type": "code",
   "execution_count": 3,
   "metadata": {
    "collapsed": true
   },
   "outputs": [],
   "source": [
    "# Encoding categorical data\n",
    "from sklearn.preprocessing import LabelEncoder, OneHotEncoder\n",
    "labelencoder_X_1 = LabelEncoder()\n",
    "X[:, 1] = labelencoder_X_1.fit_transform(X[:, 1])\n",
    "labelencoder_X_2 = LabelEncoder()\n",
    "X[:, 2] = labelencoder_X_2.fit_transform(X[:, 2])\n",
    "onehotencoder = OneHotEncoder(categorical_features = [1])\n",
    "X = onehotencoder.fit_transform(X).toarray()\n",
    "X = X[:, 1:]"
   ]
  },
  {
   "cell_type": "code",
   "execution_count": 4,
   "metadata": {
    "collapsed": true
   },
   "outputs": [],
   "source": [
    "# Splitting the dataset into the Training set and Test set\n",
    "from sklearn.model_selection import train_test_split\n",
    "X_train, X_test, y_train, y_test = train_test_split(X, y, test_size = 0.2, random_state = 0)"
   ]
  },
  {
   "cell_type": "code",
   "execution_count": 5,
   "metadata": {
    "collapsed": true
   },
   "outputs": [],
   "source": [
    "# Feature Scaling\n",
    "from sklearn.preprocessing import StandardScaler\n",
    "sc = StandardScaler()\n",
    "X_train = sc.fit_transform(X_train)\n",
    "X_test = sc.transform(X_test)"
   ]
  },
  {
   "cell_type": "markdown",
   "metadata": {},
   "source": [
    "### Part 2 - Now let's make the ANN!"
   ]
  },
  {
   "cell_type": "code",
   "execution_count": 6,
   "metadata": {},
   "outputs": [
    {
     "name": "stderr",
     "output_type": "stream",
     "text": [
      "Using TensorFlow backend.\n"
     ]
    }
   ],
   "source": [
    "# Importing the Keras libraries and packages\n",
    "import keras\n",
    "from keras.models import Sequential\n",
    "from keras.layers import Dense"
   ]
  },
  {
   "cell_type": "code",
   "execution_count": 7,
   "metadata": {
    "collapsed": true
   },
   "outputs": [],
   "source": [
    "# Initialising the ANN\n",
    "classifier = Sequential()"
   ]
  },
  {
   "cell_type": "code",
   "execution_count": 8,
   "metadata": {},
   "outputs": [],
   "source": [
    "# Adding the input layer and the first hidden layer\n",
    "classifier.add(Dense(units = 6, kernel_initializer = 'uniform', activation = 'relu', input_dim = 11))"
   ]
  },
  {
   "cell_type": "code",
   "execution_count": 9,
   "metadata": {},
   "outputs": [],
   "source": [
    "# Adding the second hidden layer\n",
    "classifier.add(Dense(units = 6, kernel_initializer = 'uniform', activation = 'relu'))"
   ]
  },
  {
   "cell_type": "code",
   "execution_count": 10,
   "metadata": {},
   "outputs": [],
   "source": [
    "# Adding the output layer\n",
    "classifier.add(Dense(units = 1, kernel_initializer = 'uniform', activation = 'sigmoid'))"
   ]
  },
  {
   "cell_type": "code",
   "execution_count": 11,
   "metadata": {
    "collapsed": true
   },
   "outputs": [],
   "source": [
    "# Compiling the ANN\n",
    "classifier.compile(optimizer = 'adam', loss = 'binary_crossentropy', metrics = ['accuracy'])"
   ]
  },
  {
   "cell_type": "code",
   "execution_count": 12,
   "metadata": {},
   "outputs": [
    {
     "name": "stdout",
     "output_type": "stream",
     "text": [
      "Epoch 1/100\n",
      "8000/8000 [==============================] - 1s - loss: 0.4835 - acc: 0.7960     \n",
      "Epoch 2/100\n",
      "8000/8000 [==============================] - 1s - loss: 0.4270 - acc: 0.7960     \n",
      "Epoch 3/100\n",
      "8000/8000 [==============================] - 1s - loss: 0.4218 - acc: 0.8009     \n",
      "Epoch 4/100\n",
      "8000/8000 [==============================] - 1s - loss: 0.4184 - acc: 0.8239     \n",
      "Epoch 5/100\n",
      "8000/8000 [==============================] - 1s - loss: 0.4160 - acc: 0.8259     \n",
      "Epoch 6/100\n",
      "8000/8000 [==============================] - 1s - loss: 0.4144 - acc: 0.8291     \n",
      "Epoch 7/100\n",
      "8000/8000 [==============================] - 1s - loss: 0.4131 - acc: 0.8326     \n",
      "Epoch 8/100\n",
      "8000/8000 [==============================] - 1s - loss: 0.4119 - acc: 0.8321     - ETA: 1s - loss: 0.4 - ETA: 0s - loss: 0.4149 - a\n",
      "Epoch 9/100\n",
      "8000/8000 [==============================] - 1s - loss: 0.4107 - acc: 0.8322     - ETA: 1s - loss: 0.4 - ETA: 0s - loss: 0.4089 - acc: 0.8\n",
      "Epoch 10/100\n",
      "8000/8000 [==============================] - 1s - loss: 0.4103 - acc: 0.8335     - ETA: 0s - loss: 0.4096 \n",
      "Epoch 11/100\n",
      "8000/8000 [==============================] - 1s - loss: 0.4089 - acc: 0.8337     \n",
      "Epoch 12/100\n",
      "8000/8000 [==============================] - 1s - loss: 0.4084 - acc: 0.8336     \n",
      "Epoch 13/100\n",
      "8000/8000 [==============================] - 1s - loss: 0.4077 - acc: 0.8322     \n",
      "Epoch 14/100\n",
      "8000/8000 [==============================] - 1s - loss: 0.4075 - acc: 0.8340     - ETA: 0s - loss: 0.4056 - acc: 0.83 - ETA: 0s - loss: 0.4075 - acc: 0.\n",
      "Epoch 15/100\n",
      "8000/8000 [==============================] - 1s - loss: 0.4069 - acc: 0.8346     - ETA: 0s - loss: 0.4083 - acc: 0.8\n",
      "Epoch 16/100\n",
      "8000/8000 [==============================] - 1s - loss: 0.4062 - acc: 0.8341     \n",
      "Epoch 17/100\n",
      "8000/8000 [==============================] - 1s - loss: 0.4062 - acc: 0.8337     \n",
      "Epoch 18/100\n",
      "8000/8000 [==============================] - 1s - loss: 0.4062 - acc: 0.8337     \n",
      "Epoch 19/100\n",
      "8000/8000 [==============================] - 1s - loss: 0.4052 - acc: 0.8351     \n",
      "Epoch 20/100\n",
      "8000/8000 [==============================] - 1s - loss: 0.4050 - acc: 0.8354     \n",
      "Epoch 21/100\n",
      "8000/8000 [==============================] - 1s - loss: 0.4046 - acc: 0.8357     \n",
      "Epoch 22/100\n",
      "8000/8000 [==============================] - 1s - loss: 0.4049 - acc: 0.8354     \n",
      "Epoch 23/100\n",
      "8000/8000 [==============================] - 1s - loss: 0.4041 - acc: 0.8351     \n",
      "Epoch 24/100\n",
      "8000/8000 [==============================] - 2s - loss: 0.4045 - acc: 0.8339     \n",
      "Epoch 25/100\n",
      "8000/8000 [==============================] - 1s - loss: 0.4036 - acc: 0.8336     \n",
      "Epoch 26/100\n",
      "8000/8000 [==============================] - 2s - loss: 0.4039 - acc: 0.8340     - ET\n",
      "Epoch 27/100\n",
      "8000/8000 [==============================] - 1s - loss: 0.4036 - acc: 0.8337     \n",
      "Epoch 28/100\n",
      "8000/8000 [==============================] - 1s - loss: 0.4037 - acc: 0.8337     \n",
      "Epoch 29/100\n",
      "8000/8000 [==============================] - 2s - loss: 0.4031 - acc: 0.8346     \n",
      "Epoch 30/100\n",
      "8000/8000 [==============================] - 2s - loss: 0.4036 - acc: 0.8354     \n",
      "Epoch 31/100\n",
      "8000/8000 [==============================] - 2s - loss: 0.4036 - acc: 0.8349     \n",
      "Epoch 32/100\n",
      "8000/8000 [==============================] - 2s - loss: 0.4031 - acc: 0.8337     \n",
      "Epoch 33/100\n",
      "8000/8000 [==============================] - 1s - loss: 0.4029 - acc: 0.8341     \n",
      "Epoch 34/100\n",
      "8000/8000 [==============================] - 1s - loss: 0.4020 - acc: 0.8341     \n",
      "Epoch 35/100\n",
      "8000/8000 [==============================] - 1s - loss: 0.4029 - acc: 0.8347     \n",
      "Epoch 36/100\n",
      "8000/8000 [==============================] - 2s - loss: 0.4027 - acc: 0.8356     \n",
      "Epoch 37/100\n",
      "8000/8000 [==============================] - 2s - loss: 0.4028 - acc: 0.8345     \n",
      "Epoch 38/100\n",
      "8000/8000 [==============================] - 1s - loss: 0.4029 - acc: 0.8336     - ETA\n",
      "Epoch 39/100\n",
      "8000/8000 [==============================] - 1s - loss: 0.4028 - acc: 0.8349     \n",
      "Epoch 40/100\n",
      "8000/8000 [==============================] - 1s - loss: 0.4026 - acc: 0.8344     \n",
      "Epoch 41/100\n",
      "8000/8000 [==============================] - 1s - loss: 0.4025 - acc: 0.8349     \n",
      "Epoch 42/100\n",
      "8000/8000 [==============================] - 1s - loss: 0.4018 - acc: 0.8354     \n",
      "Epoch 43/100\n",
      "8000/8000 [==============================] - 1s - loss: 0.4028 - acc: 0.8337     \n",
      "Epoch 44/100\n",
      "8000/8000 [==============================] - 1s - loss: 0.4025 - acc: 0.8340     \n",
      "Epoch 45/100\n",
      "8000/8000 [==============================] - 1s - loss: 0.4019 - acc: 0.8346     \n",
      "Epoch 46/100\n",
      "8000/8000 [==============================] - 1s - loss: 0.4021 - acc: 0.8344     - ETA: 0s - loss: 0.3999 -\n",
      "Epoch 47/100\n",
      "8000/8000 [==============================] - 1s - loss: 0.4017 - acc: 0.8336     - ETA\n",
      "Epoch 48/100\n",
      "8000/8000 [==============================] - 1s - loss: 0.4022 - acc: 0.8332     \n",
      "Epoch 49/100\n",
      "8000/8000 [==============================] - 1s - loss: 0.4016 - acc: 0.8341     \n",
      "Epoch 50/100\n",
      "8000/8000 [==============================] - 1s - loss: 0.4020 - acc: 0.8359     \n",
      "Epoch 51/100\n",
      "8000/8000 [==============================] - 1s - loss: 0.4015 - acc: 0.8325     - ETA: 0s - loss: 0.4003 - acc: 0 - ETA: 0s - loss: 0.4009 - acc: \n",
      "Epoch 52/100\n",
      "8000/8000 [==============================] - 1s - loss: 0.4019 - acc: 0.8347     \n",
      "Epoch 53/100\n",
      "8000/8000 [==============================] - 1s - loss: 0.4017 - acc: 0.8342     \n",
      "Epoch 54/100\n",
      "8000/8000 [==============================] - 1s - loss: 0.4023 - acc: 0.8340     \n",
      "Epoch 55/100\n",
      "8000/8000 [==============================] - 1s - loss: 0.4020 - acc: 0.8335     \n",
      "Epoch 56/100\n",
      "8000/8000 [==============================] - 1s - loss: 0.4018 - acc: 0.8357     \n",
      "Epoch 57/100\n",
      "8000/8000 [==============================] - 1s - loss: 0.4017 - acc: 0.8312     \n",
      "Epoch 58/100\n",
      "8000/8000 [==============================] - 1s - loss: 0.4020 - acc: 0.8356     \n",
      "Epoch 59/100\n",
      "8000/8000 [==============================] - 1s - loss: 0.4021 - acc: 0.8342     \n",
      "Epoch 60/100\n",
      "8000/8000 [==============================] - 1s - loss: 0.4015 - acc: 0.8354     \n",
      "Epoch 61/100\n",
      "8000/8000 [==============================] - 1s - loss: 0.4021 - acc: 0.8340     \n",
      "Epoch 62/100\n",
      "8000/8000 [==============================] - 1s - loss: 0.4020 - acc: 0.8341     \n",
      "Epoch 63/100\n",
      "8000/8000 [==============================] - 1s - loss: 0.4015 - acc: 0.8352     \n",
      "Epoch 64/100\n",
      "8000/8000 [==============================] - 1s - loss: 0.4018 - acc: 0.8337     \n",
      "Epoch 65/100\n",
      "8000/8000 [==============================] - 1s - loss: 0.4017 - acc: 0.8339     \n",
      "Epoch 66/100\n",
      "8000/8000 [==============================] - 1s - loss: 0.4016 - acc: 0.8344     \n",
      "Epoch 67/100\n",
      "8000/8000 [==============================] - 1s - loss: 0.4014 - acc: 0.8354     \n",
      "Epoch 68/100\n",
      "8000/8000 [==============================] - 1s - loss: 0.4014 - acc: 0.8325     \n",
      "Epoch 69/100\n",
      "8000/8000 [==============================] - 1s - loss: 0.4016 - acc: 0.8329     \n",
      "Epoch 70/100\n",
      "8000/8000 [==============================] - 1s - loss: 0.4018 - acc: 0.8346     \n",
      "Epoch 71/100\n",
      "8000/8000 [==============================] - 1s - loss: 0.4013 - acc: 0.8345     - ETA: 0s - loss: 0.4017 - acc: 0.83\n",
      "Epoch 72/100\n",
      "8000/8000 [==============================] - 1s - loss: 0.4021 - acc: 0.8342     \n",
      "Epoch 73/100\n",
      "8000/8000 [==============================] - 1s - loss: 0.4018 - acc: 0.8347     \n",
      "Epoch 74/100\n",
      "8000/8000 [==============================] - 1s - loss: 0.4015 - acc: 0.8334     \n",
      "Epoch 75/100\n",
      "8000/8000 [==============================] - 2s - loss: 0.4018 - acc: 0.8347     \n",
      "Epoch 76/100\n",
      "8000/8000 [==============================] - 2s - loss: 0.4020 - acc: 0.8345     \n",
      "Epoch 77/100\n",
      "8000/8000 [==============================] - 1s - loss: 0.4013 - acc: 0.8340     \n",
      "Epoch 78/100\n",
      "8000/8000 [==============================] - 1s - loss: 0.4019 - acc: 0.8342     \n",
      "Epoch 79/100\n",
      "8000/8000 [==============================] - 1s - loss: 0.4016 - acc: 0.8332     \n",
      "Epoch 80/100\n",
      "8000/8000 [==============================] - 1s - loss: 0.4011 - acc: 0.8344     \n",
      "Epoch 81/100\n",
      "8000/8000 [==============================] - 1s - loss: 0.4015 - acc: 0.8350     \n",
      "Epoch 82/100\n",
      "8000/8000 [==============================] - 1s - loss: 0.4014 - acc: 0.8352     \n",
      "Epoch 83/100\n"
     ]
    },
    {
     "name": "stdout",
     "output_type": "stream",
     "text": [
      "8000/8000 [==============================] - 1s - loss: 0.4011 - acc: 0.8319     \n",
      "Epoch 84/100\n",
      "8000/8000 [==============================] - 1s - loss: 0.4017 - acc: 0.8342     \n",
      "Epoch 85/100\n",
      "8000/8000 [==============================] - 1s - loss: 0.4013 - acc: 0.8356     \n",
      "Epoch 86/100\n",
      "8000/8000 [==============================] - 1s - loss: 0.4012 - acc: 0.8339     \n",
      "Epoch 87/100\n",
      "8000/8000 [==============================] - 1s - loss: 0.4012 - acc: 0.8331     \n",
      "Epoch 88/100\n",
      "8000/8000 [==============================] - 1s - loss: 0.4017 - acc: 0.8336     \n",
      "Epoch 89/100\n",
      "8000/8000 [==============================] - 1s - loss: 0.4017 - acc: 0.8339     \n",
      "Epoch 90/100\n",
      "8000/8000 [==============================] - 1s - loss: 0.4013 - acc: 0.8339     \n",
      "Epoch 91/100\n",
      "8000/8000 [==============================] - 1s - loss: 0.4016 - acc: 0.8334     \n",
      "Epoch 92/100\n",
      "8000/8000 [==============================] - 1s - loss: 0.4018 - acc: 0.8341     - ETA: 1s - loss:\n",
      "Epoch 93/100\n",
      "8000/8000 [==============================] - 1s - loss: 0.4016 - acc: 0.8344     \n",
      "Epoch 94/100\n",
      "8000/8000 [==============================] - 1s - loss: 0.4011 - acc: 0.8337     \n",
      "Epoch 95/100\n",
      "8000/8000 [==============================] - 1s - loss: 0.4014 - acc: 0.8322     \n",
      "Epoch 96/100\n",
      "8000/8000 [==============================] - 1s - loss: 0.4013 - acc: 0.8340     \n",
      "Epoch 97/100\n",
      "8000/8000 [==============================] - 1s - loss: 0.4013 - acc: 0.8344     - ETA: 0s - loss: 0.3989 - acc: 0.835\n",
      "Epoch 98/100\n",
      "8000/8000 [==============================] - 1s - loss: 0.4014 - acc: 0.8341     - ETA: 0s - loss: 0.3991 - acc: 0.83\n",
      "Epoch 99/100\n",
      "8000/8000 [==============================] - 1s - loss: 0.4014 - acc: 0.8337     \n",
      "Epoch 100/100\n",
      "8000/8000 [==============================] - 1s - loss: 0.4005 - acc: 0.8352     \n"
     ]
    },
    {
     "data": {
      "text/plain": [
       "<keras.callbacks.History at 0x8fc37beb00>"
      ]
     },
     "execution_count": 12,
     "metadata": {},
     "output_type": "execute_result"
    }
   ],
   "source": [
    "# Fitting the ANN to the Training set\n",
    "classifier.fit(X_train, y_train, batch_size = 10, epochs = 100)"
   ]
  },
  {
   "cell_type": "markdown",
   "metadata": {},
   "source": [
    "### Part 3 - Making the predictions and evaluating the model"
   ]
  },
  {
   "cell_type": "code",
   "execution_count": 14,
   "metadata": {
    "collapsed": true
   },
   "outputs": [],
   "source": [
    "# Predicting the Test set results\n",
    "y_pred = classifier.predict(X_test)\n",
    "y_pred = (y_pred > 0.5)"
   ]
  },
  {
   "cell_type": "code",
   "execution_count": 15,
   "metadata": {},
   "outputs": [
    {
     "data": {
      "text/plain": [
       "array([[1540,   55],\n",
       "       [ 261,  144]])"
      ]
     },
     "execution_count": 15,
     "metadata": {},
     "output_type": "execute_result"
    }
   ],
   "source": [
    "# Making the Confusion Matrix\n",
    "from sklearn.metrics import confusion_matrix\n",
    "cm = confusion_matrix(y_test, y_pred)\n",
    "cm"
   ]
  }
 ],
 "metadata": {
  "kernelspec": {
   "display_name": "Python 3",
   "language": "python",
   "name": "python3"
  },
  "language_info": {
   "codemirror_mode": {
    "name": "ipython",
    "version": 3
   },
   "file_extension": ".py",
   "mimetype": "text/x-python",
   "name": "python",
   "nbconvert_exporter": "python",
   "pygments_lexer": "ipython3",
   "version": "3.5.3"
  }
 },
 "nbformat": 4,
 "nbformat_minor": 2
}
